{
  "nbformat": 4,
  "nbformat_minor": 0,
  "metadata": {
    "colab": {
      "name": "Ch04_IntroToSpark.ipynb",
      "provenance": [],
      "include_colab_link": true
    },
    "kernelspec": {
      "display_name": "Python 3",
      "language": "python",
      "name": "python3"
    },
    "language_info": {
      "codemirror_mode": {
        "name": "ipython",
        "version": 3
      },
      "file_extension": ".py",
      "mimetype": "text/x-python",
      "name": "python",
      "nbconvert_exporter": "python",
      "pygments_lexer": "ipython3",
      "version": "3.7.3"
    }
  },
  "cells": [
    {
      "cell_type": "markdown",
      "metadata": {
        "id": "view-in-github",
        "colab_type": "text"
      },
      "source": [
        "<a href=\"https://colab.research.google.com/github/roitraining/jpmc_hadoop/blob/master/notebooks/Ch04_IntroToSpark.ipynb\" target=\"_parent\"><img src=\"https://colab.research.google.com/assets/colab-badge.svg\" alt=\"Open In Colab\"/></a>"
      ]
    },
    {
      "cell_type": "markdown",
      "metadata": {
        "colab_type": "text",
        "id": "stLlpheLWf_j"
      },
      "source": [
        "### Create the Spark context to start a session and connect to the cluster."
      ]
    },
    {
      "cell_type": "code",
      "metadata": {
        "colab_type": "code",
        "id": "oC4ujoSFWf_m",
        "colab": {}
      },
      "source": [
        "import sys\n",
        "\n",
        "rootpath = '/class/'\n",
        "datapath = f'{rootpath}datasets/'\n",
        "sys.path.append(rootpath)\n",
        "from pyspark_helpers import *\n",
        "sc, spark, conf = initspark()\n"
      ],
      "execution_count": 0,
      "outputs": []
    },
    {
      "cell_type": "markdown",
      "metadata": {
        "colab_type": "text",
        "id": "uH-N0vuoWf_v"
      },
      "source": [
        "### Read a text file from the local file system."
      ]
    },
    {
      "cell_type": "code",
      "metadata": {
        "colab_type": "code",
        "id": "A6iEi36CWf_w",
        "colab": {}
      },
      "source": [
        "shake = sc.textFile(f'{datapath}/text/shakespeare.txt')\n",
        "print(shake.count())\n",
        "print(shake.take(10))"
      ],
      "execution_count": 0,
      "outputs": []
    },
    {
      "cell_type": "markdown",
      "metadata": {
        "colab_type": "text",
        "id": "Bt-1Pg9DWf_1"
      },
      "source": [
        "### Use the map method to apply a function call on each element."
      ]
    },
    {
      "cell_type": "code",
      "metadata": {
        "colab_type": "code",
        "id": "D3wwsvU6Wf_2",
        "colab": {}
      },
      "source": [
        "shake2 = shake.map(str.upper)\n",
        "shake2.take(10)"
      ],
      "execution_count": 0,
      "outputs": []
    },
    {
      "cell_type": "markdown",
      "metadata": {
        "colab_type": "text",
        "id": "qx0qMtPyWf_9"
      },
      "source": [
        "### Using the split method you get a list of lists."
      ]
    },
    {
      "cell_type": "code",
      "metadata": {
        "colab_type": "code",
        "id": "Szr74Z3AWf__",
        "colab": {}
      },
      "source": [
        "shake3 = shake.map(lambda x : x.split(' '))\n",
        "print(shake3.take(10))\n",
        "print(shake3.count())"
      ],
      "execution_count": 0,
      "outputs": []
    },
    {
      "cell_type": "code",
      "metadata": {
        "colab_type": "code",
        "id": "y-L0L9BiWgAF",
        "colab": {}
      },
      "source": [
        "### The flatMap method flattens the inner list to return one big list of strings instead"
      ],
      "execution_count": 0,
      "outputs": []
    },
    {
      "cell_type": "code",
      "metadata": {
        "colab_type": "code",
        "id": "gP2oWr9CWgAI",
        "colab": {}
      },
      "source": [
        "shake4 = shake.flatMap(lambda x : x.split(' '))\n",
        "print(shake4.take(20))\n",
        "print(shake4.count())"
      ],
      "execution_count": 0,
      "outputs": []
    },
    {
      "cell_type": "markdown",
      "metadata": {
        "colab_type": "text",
        "id": "BdStyssVWgAU"
      },
      "source": [
        "### Parallelize will load manually created data into the spark cluster into an RDD."
      ]
    },
    {
      "cell_type": "code",
      "metadata": {
        "colab_type": "code",
        "id": "XN8v44eNWgAW",
        "colab": {}
      },
      "source": [
        "r = sc.parallelize(range(1,11))\n",
        "print(r.collect())\n",
        "print(r.take(5))"
      ],
      "execution_count": 0,
      "outputs": []
    },
    {
      "cell_type": "markdown",
      "metadata": {
        "colab_type": "text",
        "id": "SQVoJi3CWgAo"
      },
      "source": [
        "### Load a folder stored on HDFS."
      ]
    },
    {
      "cell_type": "code",
      "metadata": {
        "colab_type": "code",
        "id": "tL89iGyOWgAq",
        "colab": {}
      },
      "source": [
        "cat = sc.textFile('hdfs://localhost:9000/categories')\n",
        "cat.collect()"
      ],
      "execution_count": 0,
      "outputs": []
    },
    {
      "cell_type": "markdown",
      "metadata": {
        "colab_type": "text",
        "id": "FlQ_B5enWgAz"
      },
      "source": [
        "### Other useful actions."
      ]
    },
    {
      "cell_type": "code",
      "metadata": {
        "colab_type": "code",
        "id": "uCqmMuFLWgA1",
        "colab": {}
      },
      "source": [
        "print('1', cat.sortBy(lambda x : x).take(5))\n",
        "print(cat.takeOrdered(5))\n",
        "print(cat.top(5))\n",
        "print(cat.takeSample(True,5))\n"
      ],
      "execution_count": 0,
      "outputs": []
    },
    {
      "cell_type": "code",
      "metadata": {
        "id": "4TYK97I7FU5g",
        "colab_type": "code",
        "colab": {}
      },
      "source": [
        "print(cat.map(str.upper).collect())\n",
        "\n",
        "def email(x):\n",
        "    print (f'I am sending an email to {x}')\n",
        "    \n",
        "cat.foreach(email)"
      ],
      "execution_count": 0,
      "outputs": []
    },
    {
      "cell_type": "markdown",
      "metadata": {
        "colab_type": "text",
        "id": "MqD-2-05WgBC"
      },
      "source": [
        "### Save the results in an RDD to disk. Note how it makes a folder and fills it with as many files as there are nodes solving the problem. Also, you must make sure that the folder does not exist or it throws an exception."
      ]
    },
    {
      "cell_type": "code",
      "metadata": {
        "colab_type": "code",
        "id": "au3L8fPDWgBE",
        "colab": {}
      },
      "source": [
        "! rm -r /home/student/file1.txt\n",
        "cat.saveAsTextFile('/home/student/file1.txt')"
      ],
      "execution_count": 0,
      "outputs": []
    },
    {
      "cell_type": "code",
      "metadata": {
        "colab_type": "code",
        "id": "TK88KrBTWgBN",
        "colab": {}
      },
      "source": [
        "print(cat.map(str.upper).collect())"
      ],
      "execution_count": 0,
      "outputs": []
    },
    {
      "cell_type": "markdown",
      "metadata": {
        "colab_type": "text",
        "id": "_vn43ZGHWgBT"
      },
      "source": [
        "### Parse the string into a tuple to resemble a record structure."
      ]
    },
    {
      "cell_type": "code",
      "metadata": {
        "colab_type": "code",
        "id": "KJ2bIehvWgBU",
        "colab": {}
      },
      "source": [
        "cat1 = cat.map(lambda x : tuple(x.split(',')))\n",
        "cat1 = cat1.map(lambda x : (int(x[0]), x[1], x[2]))\n",
        "cat1.take(10)\n",
        "\n",
        "cat1 = cat.map(lambda x : tuple(x.split(','))).map(lambda x : (int(x[0]), x[1], x[2]))\n",
        "cat1 = cat.map(lambda x : tuple(x.split(','))) \\\n",
        "          .map(lambda x : (int(x[0]), x[1], x[2]))\n"
      ],
      "execution_count": 0,
      "outputs": []
    },
    {
      "cell_type": "markdown",
      "metadata": {
        "colab_type": "text",
        "id": "ko12EKvYWgBX"
      },
      "source": [
        "### ***LAB:*** Put the regions folder found in /class/datasets/northwind/CSV/regions into HDFS. Read it into an RDD and convert it into a tuple shape."
      ]
    },
    {
      "cell_type": "code",
      "metadata": {
        "colab_type": "code",
        "id": "qZWX8p7nWgBY",
        "colab": {}
      },
      "source": [
        "# ! hadoop fs -rm -r /regions\n",
        "# ! hadoop fs -put /class/datasets/northwind/CSV/regions /regions\n",
        "############################################################################################## regions = sc.textFile('hdfs://localhost:9000/regions')\n",
        "############################################################################################## regions = regions.map(lambda x : x.split(',')).map(lambda x : (int(x[0]), x[1]))\n",
        "############################################################################################## print(regions.collect())"
      ],
      "execution_count": 0,
      "outputs": []
    },
    {
      "cell_type": "markdown",
      "metadata": {
        "colab_type": "text",
        "id": "1451bwFaWgBn"
      },
      "source": [
        "### The filter method takes a lambda that returns a True or False."
      ]
    },
    {
      "cell_type": "code",
      "metadata": {
        "colab_type": "code",
        "id": "WQzyEYCYWgBo",
        "colab": {}
      },
      "source": [
        "cat1.filter(lambda x : x[0] <= 5).collect()\n"
      ],
      "execution_count": 0,
      "outputs": []
    },
    {
      "cell_type": "markdown",
      "metadata": {
        "colab_type": "text",
        "id": "22q9mGVrWgBu"
      },
      "source": [
        "### The filter expressions can be more complicated."
      ]
    },
    {
      "cell_type": "code",
      "metadata": {
        "colab_type": "code",
        "id": "gIEc83jgWgBw",
        "colab": {}
      },
      "source": [
        "cat1.filter(lambda x : x[0] % 2 == 0 and 'e' in x[1]).collect()"
      ],
      "execution_count": 0,
      "outputs": []
    },
    {
      "cell_type": "markdown",
      "metadata": {
        "colab_type": "text",
        "id": "s-mS0TT9WgB6"
      },
      "source": [
        "### The sortBy method returns an expression that is used to sort the data."
      ]
    },
    {
      "cell_type": "code",
      "metadata": {
        "colab_type": "code",
        "id": "WQwZ4Z_vWgB7",
        "colab": {}
      },
      "source": [
        "cat1.sortBy(lambda x : x[2]).collect()"
      ],
      "execution_count": 0,
      "outputs": []
    },
    {
      "cell_type": "markdown",
      "metadata": {
        "colab_type": "text",
        "id": "d4gTRsTrWgCD"
      },
      "source": [
        "### sortBy has an ascending parameter option to sort in reverse order."
      ]
    },
    {
      "cell_type": "code",
      "metadata": {
        "colab_type": "code",
        "id": "GRq5r1UAWgCF",
        "colab": {}
      },
      "source": [
        "cat1.sortBy(lambda x : x[0], ascending = False).collect()"
      ],
      "execution_count": 0,
      "outputs": []
    },
    {
      "cell_type": "code",
      "metadata": {
        "id": "wEfkIAeDFU6Q",
        "colab_type": "code",
        "colab": {}
      },
      "source": [
        ""
      ],
      "execution_count": 0,
      "outputs": []
    }
  ]
}
