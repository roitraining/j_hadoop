{
 "cells": [
  {
   "cell_type": "markdown",
   "metadata": {
    "colab_type": "text",
    "id": "1Zk5rxsmgUt7"
   },
   "source": [
    "## Open a terminal window and run the following commands:\n",
    "sudo bash\n",
    "start-hadoop\n",
    "cd /home/student/ROI/SparkProgram/Day3\n",
    "./fixhive.sh\n"
   ]
  },
  {
   "cell_type": "markdown",
   "metadata": {
    "colab_type": "text",
    "id": "nT7uivAfgUuA"
   },
   "source": [
    "## Let's make a simple hive table for regions."
   ]
  },
  {
   "cell_type": "code",
   "execution_count": null,
   "metadata": {
    "colab": {},
    "colab_type": "code",
    "id": "QVZ6O4y8gUuC"
   },
   "outputs": [],
   "source": [
    "! cat /class/regions.hql\n",
    "# hive -f regions.hql \n",
    "#! /class/fixhive.sh\n"
   ]
  },
  {
   "cell_type": "code",
   "execution_count": 1,
   "metadata": {
    "colab": {},
    "colab_type": "code",
    "id": "2Rc9DNPdgUuG"
   },
   "outputs": [
    {
     "name": "stdout",
     "output_type": "stream",
     "text": [
      "initializing pyspark\n",
      "pyspark initialized\n"
     ]
    }
   ],
   "source": [
    "import sys\n",
    "sys.path.append('/class')\n",
    "from initspark import *\n",
    "sc, spark, conf = initspark()\n"
   ]
  },
  {
   "cell_type": "markdown",
   "metadata": {
    "colab_type": "text",
    "id": "S2mr3DIKgUuL"
   },
   "source": [
    "## You can query an existing Hive table and bring it into a Spark DataFrame."
   ]
  },
  {
   "cell_type": "code",
   "execution_count": 9,
   "metadata": {
    "colab": {},
    "colab_type": "code",
    "id": "Pe14VoNmgUuM"
   },
   "outputs": [
    {
     "name": "stdout",
     "output_type": "stream",
     "text": [
      "+--------+----------+\n",
      "|regionid|regionname|\n",
      "+--------+----------+\n",
      "|       1|   Eastern|\n",
      "|       2|   Western|\n",
      "|       3|  Northern|\n",
      "|       4|  Southern|\n",
      "+--------+----------+\n",
      "\n"
     ]
    }
   ],
   "source": [
    "# CREATE EXTERNAL TABLE regions(regionid int, regionname string)\n",
    "# ROW FORMAT DELIMITED FIELDS TERMINATED BY ',' \n",
    "# LINES TERMINATED BY '\\n' \n",
    "# STORED AS TEXTFILE\n",
    "# LOCATION '/regions';\n",
    "regions = spark.read.table('regions')\n",
    "\n",
    "region_schema = StructType([\n",
    "    StructField('regionid', IntegerType()), \n",
    "    StructField('regionname', StringType())\n",
    "])\n",
    "\n",
    "regions = spark.read.csv('hdfs://localhost:9000/regions', schema = region_schema, header = False, sep = ',')\n",
    "\n",
    "                         \n",
    "regions = spark.sql('select * from regions')\n",
    "regions = spark.sql('select regionid, regionname from regions')\n",
    "\n",
    "#regions = spark.sql('select * from northwind.regions')\n",
    "\n",
    "regions = spark.sql('''\n",
    "select * \n",
    "from northwind.regions\n",
    "''')\n",
    "\n",
    "regions.show()\n",
    "\n",
    "query = '''\n",
    "select * \n",
    "from northwind.regions\n",
    "'''\n",
    "\n",
    "display(spark.sql(query))\n",
    "\n",
    "print(regions)\n"
   ]
  },
  {
   "cell_type": "markdown",
   "metadata": {},
   "source": [
    "### Really the SQL is being converted to something like the following Spark commands."
   ]
  },
  {
   "cell_type": "code",
   "execution_count": null,
   "metadata": {
    "scrolled": true
   },
   "outputs": [],
   "source": [
    "regionschema = StructType([\n",
    "    StructField('regionid', IntegerType()), \n",
    "    StructField('regionname', StringType())\n",
    "])\n",
    "\n",
    "regions2 = spark.read.csv('hdfs://localhost:9000/regions', header=False\n",
    "                         , schema = regionschema, sep = ',')\n",
    "display(regions2)"
   ]
  },
  {
   "cell_type": "markdown",
   "metadata": {},
   "source": [
    "### You can install this magic add in which lets you call SparkSQL directly"
   ]
  },
  {
   "cell_type": "code",
   "execution_count": 11,
   "metadata": {},
   "outputs": [],
   "source": [
    "# pip3 install sparksql-magic\n",
    "%load_ext sparksql_magic"
   ]
  },
  {
   "cell_type": "code",
   "execution_count": 13,
   "metadata": {},
   "outputs": [
    {
     "data": {
      "text/html": [
       "<table><tr style=\"border-bottom: 1px solid\"><td style=\"font-weight: bold\">RegionID</td><td style=\"font-weight: bold\">RegionName</td></tr><tr><td>1</td><td>Eastern</td></tr><tr><td>2</td><td>Western</td></tr><tr><td>3</td><td>Northern</td></tr><tr><td>4</td><td>Southern</td></tr></table>"
      ],
      "text/plain": [
       "<IPython.core.display.HTML object>"
      ]
     },
     "execution_count": 13,
     "metadata": {},
     "output_type": "execute_result"
    }
   ],
   "source": [
    "%%sparksql\n",
    "select * from regions\n"
   ]
  },
  {
   "cell_type": "markdown",
   "metadata": {},
   "source": [
    "### Can also capture the results to a variable and use it later"
   ]
  },
  {
   "cell_type": "code",
   "execution_count": 14,
   "metadata": {},
   "outputs": [
    {
     "name": "stdout",
     "output_type": "stream",
     "text": [
      "capture dataframe to local variable `regions4`\n"
     ]
    },
    {
     "data": {
      "text/html": [
       "<table><tr style=\"border-bottom: 1px solid\"><td style=\"font-weight: bold\">regionname</td><td style=\"font-weight: bold\">regionid</td></tr><tr><td>Eastern</td><td>1</td></tr><tr><td>Western</td><td>2</td></tr><tr><td>Northern</td><td>3</td></tr></table>"
      ],
      "text/plain": [
       "<IPython.core.display.HTML object>"
      ]
     },
     "execution_count": 14,
     "metadata": {},
     "output_type": "execute_result"
    }
   ],
   "source": [
    "%%sparksql regions4\n",
    "select regionname, regionid from regions where regionid < 4\n"
   ]
  },
  {
   "cell_type": "code",
   "execution_count": null,
   "metadata": {},
   "outputs": [],
   "source": [
    "regions4 = spark.sql('select regionname, regionid from regions where regionid < 4')"
   ]
  },
  {
   "cell_type": "code",
   "execution_count": 17,
   "metadata": {},
   "outputs": [
    {
     "data": {
      "text/html": [
       "<div>\n",
       "<style scoped>\n",
       "    .dataframe tbody tr th:only-of-type {\n",
       "        vertical-align: middle;\n",
       "    }\n",
       "\n",
       "    .dataframe tbody tr th {\n",
       "        vertical-align: top;\n",
       "    }\n",
       "\n",
       "    .dataframe thead th {\n",
       "        text-align: right;\n",
       "    }\n",
       "</style>\n",
       "<table border=\"1\" class=\"dataframe\">\n",
       "  <thead>\n",
       "    <tr style=\"text-align: right;\">\n",
       "      <th></th>\n",
       "      <th>regionname</th>\n",
       "      <th>regionid</th>\n",
       "    </tr>\n",
       "  </thead>\n",
       "  <tbody>\n",
       "    <tr>\n",
       "      <th>0</th>\n",
       "      <td>Eastern</td>\n",
       "      <td>1</td>\n",
       "    </tr>\n",
       "    <tr>\n",
       "      <th>1</th>\n",
       "      <td>Northern</td>\n",
       "      <td>3</td>\n",
       "    </tr>\n",
       "    <tr>\n",
       "      <th>2</th>\n",
       "      <td>Western</td>\n",
       "      <td>2</td>\n",
       "    </tr>\n",
       "  </tbody>\n",
       "</table>\n",
       "</div>"
      ],
      "text/plain": [
       "  regionname  regionid\n",
       "0    Eastern         1\n",
       "1   Northern         3\n",
       "2    Western         2"
      ]
     },
     "metadata": {},
     "output_type": "display_data"
    }
   ],
   "source": [
    "sort_field = 'regionname'\n",
    "display(regions4.orderBy(sort_field))"
   ]
  },
  {
   "cell_type": "code",
   "execution_count": 45,
   "metadata": {},
   "outputs": [],
   "source": [
    "regions4 = spark.sql('select regionname, regionid from regions where regionid < 4 order by regionname')\n",
    "regions4 = spark.sql('select regionname, regionid from regions where regionid < 4').sort('regionname')\n",
    "regions4 = spark.sql('select regionname, regionid from regions').filter('regionid < 4').sort('regionname')\n"
   ]
  },
  {
   "cell_type": "code",
   "execution_count": 46,
   "metadata": {},
   "outputs": [
    {
     "data": {
      "text/html": [
       "<div>\n",
       "<style scoped>\n",
       "    .dataframe tbody tr th:only-of-type {\n",
       "        vertical-align: middle;\n",
       "    }\n",
       "\n",
       "    .dataframe tbody tr th {\n",
       "        vertical-align: top;\n",
       "    }\n",
       "\n",
       "    .dataframe thead th {\n",
       "        text-align: right;\n",
       "    }\n",
       "</style>\n",
       "<table border=\"1\" class=\"dataframe\">\n",
       "  <thead>\n",
       "    <tr style=\"text-align: right;\">\n",
       "      <th></th>\n",
       "      <th>regionname</th>\n",
       "      <th>regionid</th>\n",
       "    </tr>\n",
       "  </thead>\n",
       "  <tbody>\n",
       "    <tr>\n",
       "      <th>0</th>\n",
       "      <td>Eastern</td>\n",
       "      <td>1</td>\n",
       "    </tr>\n",
       "    <tr>\n",
       "      <th>1</th>\n",
       "      <td>Western</td>\n",
       "      <td>2</td>\n",
       "    </tr>\n",
       "    <tr>\n",
       "      <th>2</th>\n",
       "      <td>Northern</td>\n",
       "      <td>3</td>\n",
       "    </tr>\n",
       "  </tbody>\n",
       "</table>\n",
       "</div>"
      ],
      "text/plain": [
       "  regionname  regionid\n",
       "0    Eastern         1\n",
       "1    Western         2\n",
       "2   Northern         3"
      ]
     },
     "metadata": {},
     "output_type": "display_data"
    }
   ],
   "source": [
    "regionschema = StructType([\n",
    "    StructField('regionid', IntegerType()), \n",
    "    StructField('regionname', StringType())\n",
    "])\n",
    "\n",
    "regions2 = (spark.read.csv('hdfs://localhost:9000/regions', header=False\n",
    "                         , schema = regionschema, sep = ',')\n",
    "                .select('regionname', 'regionid')\n",
    "                .where('regionid < 4')\n",
    "                .sort('regionid'))\n",
    "display(regions2)"
   ]
  },
  {
   "cell_type": "code",
   "execution_count": null,
   "metadata": {},
   "outputs": [],
   "source": [
    "regions.collect()"
   ]
  },
  {
   "cell_type": "markdown",
   "metadata": {
    "colab_type": "text",
    "id": "7uNzTBr_gUuR"
   },
   "source": [
    "## Read in a file to a Spark DataFrame."
   ]
  },
  {
   "cell_type": "code",
   "execution_count": 20,
   "metadata": {},
   "outputs": [],
   "source": [
    "# spark.sql('select * from territories').show()"
   ]
  },
  {
   "cell_type": "code",
   "execution_count": 21,
   "metadata": {
    "colab": {},
    "colab_type": "code",
    "id": "9O2HurUbgUuS"
   },
   "outputs": [
    {
     "name": "stdout",
     "output_type": "stream",
     "text": [
      "+-----------+-------------+--------+\n",
      "|TerritoryID|TerritoryName|RegionID|\n",
      "+-----------+-------------+--------+\n",
      "|       1581|     Westboro|       1|\n",
      "|       1730|      Bedford|       1|\n",
      "|       1833|    Georgetow|       1|\n",
      "|       2116|       Boston|       1|\n",
      "|       2139|    Cambridge|       1|\n",
      "|       2184|    Braintree|       1|\n",
      "|       2903|   Providence|       1|\n",
      "|       3049|       Hollis|       3|\n",
      "|       3801|   Portsmouth|       3|\n",
      "|       6897|       Wilton|       1|\n",
      "|       7960|   Morristown|       1|\n",
      "|       8837|       Edison|       1|\n",
      "|      10019|     New York|       1|\n",
      "|      10038|     New York|       1|\n",
      "|      11747|     Mellvile|       1|\n",
      "|      14450|     Fairport|       1|\n",
      "|      19428| Philadelphia|       3|\n",
      "|      19713|       Neward|       1|\n",
      "|      20852|    Rockville|       1|\n",
      "|      27403|   Greensboro|       1|\n",
      "+-----------+-------------+--------+\n",
      "only showing top 20 rows\n",
      "\n"
     ]
    }
   ],
   "source": [
    "territories = spark.read.csv('file:///class/datasets/northwind/CSVHeaders/territories'\n",
    "                             , inferSchema = True, header=True)\n",
    "territories.show()\n"
   ]
  },
  {
   "cell_type": "markdown",
   "metadata": {
    "colab_type": "text",
    "id": "55rxI7rhgUuW"
   },
   "source": [
    "## Use createOrReplaceTempView to create a virtual table in the Hive catalog and then it can be queried using SQL as if it were a hive table."
   ]
  },
  {
   "cell_type": "code",
   "execution_count": 22,
   "metadata": {},
   "outputs": [
    {
     "data": {
      "text/html": [
       "<div>\n",
       "<style scoped>\n",
       "    .dataframe tbody tr th:only-of-type {\n",
       "        vertical-align: middle;\n",
       "    }\n",
       "\n",
       "    .dataframe tbody tr th {\n",
       "        vertical-align: top;\n",
       "    }\n",
       "\n",
       "    .dataframe thead th {\n",
       "        text-align: right;\n",
       "    }\n",
       "</style>\n",
       "<table border=\"1\" class=\"dataframe\">\n",
       "  <thead>\n",
       "    <tr style=\"text-align: right;\">\n",
       "      <th></th>\n",
       "      <th>TerritoryID</th>\n",
       "      <th>TerritoryName</th>\n",
       "      <th>RegionID</th>\n",
       "    </tr>\n",
       "  </thead>\n",
       "  <tbody>\n",
       "    <tr>\n",
       "      <th>0</th>\n",
       "      <td>1581</td>\n",
       "      <td>Westboro</td>\n",
       "      <td>1</td>\n",
       "    </tr>\n",
       "    <tr>\n",
       "      <th>1</th>\n",
       "      <td>1730</td>\n",
       "      <td>Bedford</td>\n",
       "      <td>1</td>\n",
       "    </tr>\n",
       "    <tr>\n",
       "      <th>2</th>\n",
       "      <td>1833</td>\n",
       "      <td>Georgetow</td>\n",
       "      <td>1</td>\n",
       "    </tr>\n",
       "    <tr>\n",
       "      <th>3</th>\n",
       "      <td>2116</td>\n",
       "      <td>Boston</td>\n",
       "      <td>1</td>\n",
       "    </tr>\n",
       "    <tr>\n",
       "      <th>4</th>\n",
       "      <td>2139</td>\n",
       "      <td>Cambridge</td>\n",
       "      <td>1</td>\n",
       "    </tr>\n",
       "    <tr>\n",
       "      <th>5</th>\n",
       "      <td>2184</td>\n",
       "      <td>Braintree</td>\n",
       "      <td>1</td>\n",
       "    </tr>\n",
       "    <tr>\n",
       "      <th>6</th>\n",
       "      <td>2903</td>\n",
       "      <td>Providence</td>\n",
       "      <td>1</td>\n",
       "    </tr>\n",
       "    <tr>\n",
       "      <th>7</th>\n",
       "      <td>3049</td>\n",
       "      <td>Hollis</td>\n",
       "      <td>3</td>\n",
       "    </tr>\n",
       "    <tr>\n",
       "      <th>8</th>\n",
       "      <td>3801</td>\n",
       "      <td>Portsmouth</td>\n",
       "      <td>3</td>\n",
       "    </tr>\n",
       "    <tr>\n",
       "      <th>9</th>\n",
       "      <td>6897</td>\n",
       "      <td>Wilton</td>\n",
       "      <td>1</td>\n",
       "    </tr>\n",
       "  </tbody>\n",
       "</table>\n",
       "</div>"
      ],
      "text/plain": [
       "   TerritoryID TerritoryName  RegionID\n",
       "0         1581      Westboro         1\n",
       "1         1730       Bedford         1\n",
       "2         1833     Georgetow         1\n",
       "3         2116        Boston         1\n",
       "4         2139     Cambridge         1\n",
       "5         2184     Braintree         1\n",
       "6         2903    Providence         1\n",
       "7         3049        Hollis         3\n",
       "8         3801    Portsmouth         3\n",
       "9         6897        Wilton         1"
      ]
     },
     "metadata": {},
     "output_type": "display_data"
    }
   ],
   "source": [
    "display(territories)"
   ]
  },
  {
   "cell_type": "code",
   "execution_count": 23,
   "metadata": {
    "colab": {},
    "colab_type": "code",
    "id": "B1QjuhcTgUuX"
   },
   "outputs": [
    {
     "name": "stdout",
     "output_type": "stream",
     "text": [
      "+--------+-----------+-------------+\n",
      "|RegionID|TerritoryID|TerritoryName|\n",
      "+--------+-----------+-------------+\n",
      "|       1|       1581|     Westboro|\n",
      "|       1|       1730|      Bedford|\n",
      "|       1|       1833|    Georgetow|\n",
      "|       1|       2116|       Boston|\n",
      "|       1|       2139|    Cambridge|\n",
      "|       1|       2184|    Braintree|\n",
      "|       1|       2903|   Providence|\n",
      "|       1|       6897|       Wilton|\n",
      "|       1|       7960|   Morristown|\n",
      "|       1|       8837|       Edison|\n",
      "|       1|      10019|     New York|\n",
      "|       1|      10038|     New York|\n",
      "|       1|      11747|     Mellvile|\n",
      "|       1|      14450|     Fairport|\n",
      "|       1|      19713|       Neward|\n",
      "|       1|      20852|    Rockville|\n",
      "|       1|      27403|   Greensboro|\n",
      "|       1|      27511|         Cary|\n",
      "|       1|      40222|   Louisville|\n",
      "+--------+-----------+-------------+\n",
      "\n",
      "19\n"
     ]
    },
    {
     "data": {
      "text/html": [
       "<div>\n",
       "<style scoped>\n",
       "    .dataframe tbody tr th:only-of-type {\n",
       "        vertical-align: middle;\n",
       "    }\n",
       "\n",
       "    .dataframe tbody tr th {\n",
       "        vertical-align: top;\n",
       "    }\n",
       "\n",
       "    .dataframe thead th {\n",
       "        text-align: right;\n",
       "    }\n",
       "</style>\n",
       "<table border=\"1\" class=\"dataframe\">\n",
       "  <thead>\n",
       "    <tr style=\"text-align: right;\">\n",
       "      <th></th>\n",
       "      <th>RegionID</th>\n",
       "      <th>TerritoryID</th>\n",
       "      <th>TerritoryName</th>\n",
       "    </tr>\n",
       "  </thead>\n",
       "  <tbody>\n",
       "    <tr>\n",
       "      <th>0</th>\n",
       "      <td>1</td>\n",
       "      <td>1581</td>\n",
       "      <td>Westboro</td>\n",
       "    </tr>\n",
       "    <tr>\n",
       "      <th>1</th>\n",
       "      <td>1</td>\n",
       "      <td>1730</td>\n",
       "      <td>Bedford</td>\n",
       "    </tr>\n",
       "    <tr>\n",
       "      <th>2</th>\n",
       "      <td>1</td>\n",
       "      <td>1833</td>\n",
       "      <td>Georgetow</td>\n",
       "    </tr>\n",
       "    <tr>\n",
       "      <th>3</th>\n",
       "      <td>1</td>\n",
       "      <td>2116</td>\n",
       "      <td>Boston</td>\n",
       "    </tr>\n",
       "    <tr>\n",
       "      <th>4</th>\n",
       "      <td>1</td>\n",
       "      <td>2139</td>\n",
       "      <td>Cambridge</td>\n",
       "    </tr>\n",
       "    <tr>\n",
       "      <th>5</th>\n",
       "      <td>1</td>\n",
       "      <td>2184</td>\n",
       "      <td>Braintree</td>\n",
       "    </tr>\n",
       "    <tr>\n",
       "      <th>6</th>\n",
       "      <td>1</td>\n",
       "      <td>2903</td>\n",
       "      <td>Providence</td>\n",
       "    </tr>\n",
       "    <tr>\n",
       "      <th>7</th>\n",
       "      <td>1</td>\n",
       "      <td>6897</td>\n",
       "      <td>Wilton</td>\n",
       "    </tr>\n",
       "    <tr>\n",
       "      <th>8</th>\n",
       "      <td>1</td>\n",
       "      <td>7960</td>\n",
       "      <td>Morristown</td>\n",
       "    </tr>\n",
       "    <tr>\n",
       "      <th>9</th>\n",
       "      <td>1</td>\n",
       "      <td>8837</td>\n",
       "      <td>Edison</td>\n",
       "    </tr>\n",
       "  </tbody>\n",
       "</table>\n",
       "</div>"
      ],
      "text/plain": [
       "   RegionID  TerritoryID TerritoryName\n",
       "0         1         1581      Westboro\n",
       "1         1         1730       Bedford\n",
       "2         1         1833     Georgetow\n",
       "3         1         2116        Boston\n",
       "4         1         2139     Cambridge\n",
       "5         1         2184     Braintree\n",
       "6         1         2903    Providence\n",
       "7         1         6897        Wilton\n",
       "8         1         7960    Morristown\n",
       "9         1         8837        Edison"
      ]
     },
     "metadata": {},
     "output_type": "display_data"
    }
   ],
   "source": [
    "territories.createOrReplaceTempView('territories')\n",
    "t1 = spark.sql('select RegionID, TerritoryID, TerritoryName from territories where regionid = 1')\n",
    "t1.show()\n",
    "print(t1.count())\n",
    "\n",
    "display(territories.select('RegionID', 'TerritoryID', 'TerritoryName').filter('RegionID=1'))"
   ]
  },
  {
   "cell_type": "code",
   "execution_count": 24,
   "metadata": {},
   "outputs": [
    {
     "name": "stdout",
     "output_type": "stream",
     "text": [
      "only showing top 20 row(s)\n"
     ]
    },
    {
     "data": {
      "text/html": [
       "<table><tr style=\"border-bottom: 1px solid\"><td style=\"font-weight: bold\">regionid</td><td style=\"font-weight: bold\">regionname</td><td style=\"font-weight: bold\">territoryid</td><td style=\"font-weight: bold\">territoryname</td></tr><tr><td>1</td><td>Eastern</td><td>1581</td><td>Westboro</td></tr><tr><td>1</td><td>Eastern</td><td>1730</td><td>Bedford</td></tr><tr><td>1</td><td>Eastern</td><td>1833</td><td>Georgetow</td></tr><tr><td>1</td><td>Eastern</td><td>2116</td><td>Boston</td></tr><tr><td>1</td><td>Eastern</td><td>2139</td><td>Cambridge</td></tr><tr><td>1</td><td>Eastern</td><td>2184</td><td>Braintree</td></tr><tr><td>1</td><td>Eastern</td><td>2903</td><td>Providence</td></tr><tr><td>1</td><td>Eastern</td><td>6897</td><td>Wilton</td></tr><tr><td>1</td><td>Eastern</td><td>7960</td><td>Morristown</td></tr><tr><td>1</td><td>Eastern</td><td>8837</td><td>Edison</td></tr><tr><td>1</td><td>Eastern</td><td>10019</td><td>New York</td></tr><tr><td>1</td><td>Eastern</td><td>10038</td><td>New York</td></tr><tr><td>1</td><td>Eastern</td><td>11747</td><td>Mellvile</td></tr><tr><td>1</td><td>Eastern</td><td>14450</td><td>Fairport</td></tr><tr><td>1</td><td>Eastern</td><td>19713</td><td>Neward</td></tr><tr><td>1</td><td>Eastern</td><td>20852</td><td>Rockville</td></tr><tr><td>1</td><td>Eastern</td><td>27403</td><td>Greensboro</td></tr><tr><td>1</td><td>Eastern</td><td>27511</td><td>Cary</td></tr><tr><td>1</td><td>Eastern</td><td>40222</td><td>Louisville</td></tr><tr><td>2</td><td>Western</td><td>60179</td><td>Hoffman Estates</td></tr></table>"
      ],
      "text/plain": [
       "<IPython.core.display.HTML object>"
      ]
     },
     "execution_count": 24,
     "metadata": {},
     "output_type": "execute_result"
    }
   ],
   "source": [
    "%%sparksql\n",
    "select r.regionid, r.regionname, t.territoryid, t.territoryname\n",
    "from regions as r\n",
    "join territories as t on r.regionid = t.regionid\n",
    "order by r.regionid, t.territoryid\n"
   ]
  },
  {
   "cell_type": "markdown",
   "metadata": {
    "colab_type": "text",
    "id": "2AG_7asYgUub"
   },
   "source": [
    "## Spark DataFrames can be saved to a Hive table using either the saveAsTable method or writing a SQL query that uses CREATE TABLE AS."
   ]
  },
  {
   "cell_type": "code",
   "execution_count": null,
   "metadata": {},
   "outputs": [],
   "source": [
    "help(territories.write.saveAsTable)"
   ]
  },
  {
   "cell_type": "code",
   "execution_count": 27,
   "metadata": {
    "colab": {},
    "colab_type": "code",
    "id": "c_t3CY5kgUud"
   },
   "outputs": [
    {
     "data": {
      "text/plain": [
       "DataFrame[]"
      ]
     },
     "execution_count": 27,
     "metadata": {},
     "output_type": "execute_result"
    }
   ],
   "source": [
    "#territories.write.saveAsTable('territories2', mode='overwrite')\n",
    "#territories.write.saveAsTable('territories3', mode='overwrite', format='csv')\n",
    "\n",
    "#spark.sql(\"create table territories4 STORED AS AVRO LOCATION '/territories4' as select * from territories\")\n"
   ]
  },
  {
   "cell_type": "markdown",
   "metadata": {
    "colab_type": "text",
    "id": "GESKSjlVoIza"
   },
   "source": [
    "## Confirm that the tables exist in Hive.\n",
    "From the command line type hive or spark-sql and then show tables;\n"
   ]
  },
  {
   "cell_type": "code",
   "execution_count": null,
   "metadata": {
    "colab": {},
    "colab_type": "code",
    "id": "x2RlNAMwoIzc"
   },
   "outputs": [],
   "source": [
    "#! hive -e \"show tables;\"\n",
    "! spark-sql \"show tables;\""
   ]
  },
  {
   "cell_type": "markdown",
   "metadata": {
    "colab_type": "text",
    "id": "8YgAW8SdgUuh"
   },
   "source": [
    "## Queries use standard HQL to mix Hive tables and virtual tables. Both are read into a Spark DataFrame and the processing happens at the Spark level, not at the Hive level. HQL is just used to parse the logic into the corresponding Spark methods."
   ]
  },
  {
   "cell_type": "code",
   "execution_count": 29,
   "metadata": {
    "colab": {},
    "colab_type": "code",
    "id": "B5TTOFx_gUui"
   },
   "outputs": [
    {
     "name": "stdout",
     "output_type": "stream",
     "text": [
      "+--------+----------+-----------+-------------+\n",
      "|regionid|regionname|territoryid|territoryname|\n",
      "+--------+----------+-----------+-------------+\n",
      "|       1|   Eastern|       1581|     Westboro|\n",
      "|       1|   Eastern|       1730|      Bedford|\n",
      "|       1|   Eastern|       1833|    Georgetow|\n",
      "|       1|   Eastern|       2116|       Boston|\n",
      "|       1|   Eastern|       2139|    Cambridge|\n",
      "|       1|   Eastern|       2184|    Braintree|\n",
      "|       1|   Eastern|       2903|   Providence|\n",
      "|       1|   Eastern|       6897|       Wilton|\n",
      "|       1|   Eastern|       7960|   Morristown|\n",
      "|       1|   Eastern|       8837|       Edison|\n",
      "+--------+----------+-----------+-------------+\n",
      "only showing top 10 rows\n",
      "\n",
      "+--------+----------+-----------+-------------+\n",
      "|regionid|regionname|TerritoryID|TerritoryName|\n",
      "+--------+----------+-----------+-------------+\n",
      "|       1|   Eastern|       1581|     Westboro|\n",
      "|       1|   Eastern|       1730|      Bedford|\n",
      "|       1|   Eastern|       1833|    Georgetow|\n",
      "|       1|   Eastern|       2116|       Boston|\n",
      "|       1|   Eastern|       2139|    Cambridge|\n",
      "|       1|   Eastern|       2184|    Braintree|\n",
      "|       1|   Eastern|       2903|   Providence|\n",
      "|       1|   Eastern|       6897|       Wilton|\n",
      "|       1|   Eastern|       7960|   Morristown|\n",
      "|       1|   Eastern|       8837|       Edison|\n",
      "+--------+----------+-----------+-------------+\n",
      "only showing top 10 rows\n",
      "\n"
     ]
    }
   ],
   "source": [
    "query = \"\"\"\n",
    "select r.regionid, r.regionname, t.territoryid, t.territoryname \n",
    "from regions as r \n",
    "join territories as t on r.regionid = t.regionid \n",
    "order by r.regionid, t.territoryid\n",
    "\"\"\"\n",
    "rt = spark.sql(query)\n",
    "rt.show(10)\n",
    "\n",
    "tr = regions.join(territories, regions.regionid == territories.RegionID). \\\n",
    "     select('regions.regionid', 'regionname', 'TerritoryID', 'TerritoryName') .\\\n",
    "    orderBy('regionid', 'territoryid')\n",
    "tr.show(10)\n"
   ]
  },
  {
   "cell_type": "markdown",
   "metadata": {
    "colab_type": "text",
    "id": "OBAmE5RzgUul"
   },
   "source": [
    "## LAB: ## \n",
    "### Read the northwind JSON products and make it into a TempView and do the same with the CSVHeaders version of categories.\n",
    "<br>\n",
    "<details><summary>Click for <b>hint</b></summary>\n",
    "<p>\n",
    "Look at Day 2 or below to copy the code to load in the DataFrames\n",
    "<br>\n",
    "Turn each DataFrame into a temporary view\n",
    "<br>\n",
    "<br>\n",
    "</p>\n",
    "</details>\n",
    "\n",
    "<details><summary>Click for <b>code</b></summary>\n",
    "<p>\n",
    "\n",
    "```python\n",
    "categories = spark.read.load('file:///class/datasets/northwind/CSVHeaders/categories', format = 'csv', sep = ',', inferSchema = True, header = True)\n",
    "\n",
    "prodSchema = StructType([\n",
    "    StructField('productid', IntegerType()), \n",
    "    StructField('productname', StringType()),\n",
    "    StructField('supplierid', IntegerType()), \n",
    "    StructField('categoryid', IntegerType()), \n",
    "    StructField('quantityperunit', StringType()), \n",
    "    StructField('unitprice', FloatType()), \n",
    "    StructField('unitsinstock', IntegerType()), \n",
    "    StructField('unitsonorder', IntegerType()), \n",
    "    StructField('reorderlevel', IntegerType()), \n",
    "    StructField('discontinued', IntegerType())\n",
    "])\n",
    "products = spark.read.json('file:///class/datasets/northwind/JSON/products', schema=prodSchema)\n",
    "\n",
    "categories.createOrReplaceTempView('categories')\n",
    "products.createOrReplaceTempView('products')```\n",
    "</p>\n",
    "</details>"
   ]
  },
  {
   "cell_type": "code",
   "execution_count": 30,
   "metadata": {
    "colab": {},
    "colab_type": "code",
    "id": "kReWCLN1gUuq"
   },
   "outputs": [],
   "source": []
  },
  {
   "cell_type": "code",
   "execution_count": 32,
   "metadata": {},
   "outputs": [
    {
     "name": "stdout",
     "output_type": "stream",
     "text": [
      "only showing top 20 row(s)\n"
     ]
    },
    {
     "data": {
      "text/html": [
       "<table><tr style=\"border-bottom: 1px solid\"><td style=\"font-weight: bold\">productid</td><td style=\"font-weight: bold\">productname</td><td style=\"font-weight: bold\">supplierid</td><td style=\"font-weight: bold\">categoryid</td><td style=\"font-weight: bold\">quantityperunit</td><td style=\"font-weight: bold\">unitprice</td><td style=\"font-weight: bold\">unitsinstock</td><td style=\"font-weight: bold\">unitsonorder</td><td style=\"font-weight: bold\">reorderlevel</td><td style=\"font-weight: bold\">discontinued</td><td style=\"font-weight: bold\">CategoryID</td><td style=\"font-weight: bold\">CategoryName</td><td style=\"font-weight: bold\">Description</td></tr><tr><td>1</td><td>Chai</td><td>8</td><td>1</td><td>10 boxes x 30 bags</td><td>18.0</td><td>39</td><td>0</td><td>10</td><td>1</td><td>1</td><td>Beverages</td><td>Soft drinks coffees teas beers and ales</td></tr><tr><td>2</td><td>Chang</td><td>1</td><td>1</td><td>24 - 12 oz bottles</td><td>19.0</td><td>17</td><td>40</td><td>25</td><td>1</td><td>1</td><td>Beverages</td><td>Soft drinks coffees teas beers and ales</td></tr><tr><td>3</td><td>Aniseed Syrup</td><td>1</td><td>2</td><td>12 - 550 ml bottles</td><td>10.0</td><td>13</td><td>70</td><td>25</td><td>0</td><td>2</td><td>Condiments</td><td>Sweet and savory sauces relishes spreads and seasonings</td></tr><tr><td>4</td><td>Chef Anton&#x27;s Cajun Seasoning</td><td>2</td><td>2</td><td>48 - 6 oz jars</td><td>22.0</td><td>53</td><td>0</td><td>0</td><td>0</td><td>2</td><td>Condiments</td><td>Sweet and savory sauces relishes spreads and seasonings</td></tr><tr><td>5</td><td>Chef Anton&#x27;s Gumbo Mix</td><td>2</td><td>2</td><td>36 boxes</td><td>21.350000381469727</td><td>0</td><td>0</td><td>0</td><td>1</td><td>2</td><td>Condiments</td><td>Sweet and savory sauces relishes spreads and seasonings</td></tr><tr><td>6</td><td>Grandma&#x27;s Boysenberry Spread</td><td>3</td><td>2</td><td>12 - 8 oz jars</td><td>25.0</td><td>120</td><td>0</td><td>25</td><td>0</td><td>2</td><td>Condiments</td><td>Sweet and savory sauces relishes spreads and seasonings</td></tr><tr><td>7</td><td>Uncle Bob&#x27;s Organic Dried Pears</td><td>3</td><td>7</td><td>12 - 1 lb pkgs.</td><td>30.0</td><td>15</td><td>0</td><td>10</td><td>0</td><td>7</td><td>Produce</td><td>Dried fruit and bean curd</td></tr><tr><td>8</td><td>Northwoods Cranberry Sauce</td><td>3</td><td>2</td><td>12 - 12 oz jars</td><td>40.0</td><td>6</td><td>0</td><td>0</td><td>0</td><td>2</td><td>Condiments</td><td>Sweet and savory sauces relishes spreads and seasonings</td></tr><tr><td>9</td><td>Mishi Kobe Niku</td><td>4</td><td>6</td><td>18 - 500 g pkgs.</td><td>97.0</td><td>29</td><td>0</td><td>0</td><td>1</td><td>6</td><td>Meat/Poultry</td><td>Prepared meats</td></tr><tr><td>10</td><td>Ikura</td><td>4</td><td>8</td><td>12 - 200 ml jars</td><td>31.0</td><td>31</td><td>0</td><td>0</td><td>0</td><td>8</td><td>Seafood</td><td>Seaweed and fish</td></tr><tr><td>11</td><td>Queso Cabrales</td><td>5</td><td>4</td><td>1 kg pkg.</td><td>21.0</td><td>22</td><td>30</td><td>30</td><td>0</td><td>4</td><td>Dairy Products</td><td>Cheeses</td></tr><tr><td>12</td><td>Queso Manchego La Pastora</td><td>5</td><td>4</td><td>10 - 500 g pkgs.</td><td>38.0</td><td>86</td><td>0</td><td>0</td><td>0</td><td>4</td><td>Dairy Products</td><td>Cheeses</td></tr><tr><td>13</td><td>Konbu</td><td>6</td><td>8</td><td>2 kg box</td><td>6.0</td><td>24</td><td>0</td><td>5</td><td>0</td><td>8</td><td>Seafood</td><td>Seaweed and fish</td></tr><tr><td>14</td><td>Tofu</td><td>6</td><td>7</td><td>40 - 100 g pkgs.</td><td>23.25</td><td>35</td><td>0</td><td>0</td><td>0</td><td>7</td><td>Produce</td><td>Dried fruit and bean curd</td></tr><tr><td>15</td><td>Genen Shouyu</td><td>6</td><td>2</td><td>24 - 250 ml bottles</td><td>13.0</td><td>39</td><td>0</td><td>5</td><td>0</td><td>2</td><td>Condiments</td><td>Sweet and savory sauces relishes spreads and seasonings</td></tr><tr><td>16</td><td>Pavlova</td><td>7</td><td>3</td><td>32 - 500 g boxes</td><td>17.450000762939453</td><td>29</td><td>0</td><td>10</td><td>0</td><td>3</td><td>Confections</td><td>Desserts candies and sweet breads</td></tr><tr><td>17</td><td>Alice Mutton</td><td>7</td><td>6</td><td>20 - 1 kg tins</td><td>39.0</td><td>0</td><td>0</td><td>0</td><td>1</td><td>6</td><td>Meat/Poultry</td><td>Prepared meats</td></tr><tr><td>18</td><td>Carnarvon Tigers</td><td>7</td><td>8</td><td>16 kg pkg.</td><td>62.5</td><td>42</td><td>0</td><td>0</td><td>0</td><td>8</td><td>Seafood</td><td>Seaweed and fish</td></tr><tr><td>19</td><td>Teatime Chocolate Biscuits</td><td>8</td><td>3</td><td>10 boxes x 12 pieces</td><td>9.199999809265137</td><td>25</td><td>0</td><td>5</td><td>0</td><td>3</td><td>Confections</td><td>Desserts candies and sweet breads</td></tr><tr><td>20</td><td>Sir Rodney&#x27;s Marmalade</td><td>8</td><td>3</td><td>30 gift boxes</td><td>81.0</td><td>40</td><td>0</td><td>0</td><td>0</td><td>3</td><td>Confections</td><td>Desserts candies and sweet breads</td></tr></table>"
      ],
      "text/plain": [
       "<IPython.core.display.HTML object>"
      ]
     },
     "execution_count": 32,
     "metadata": {},
     "output_type": "execute_result"
    }
   ],
   "source": [
    "%%sparksql\n",
    "select * from products as p\n",
    "join categories as c on p.categoryid = c.categoryid\n"
   ]
  },
  {
   "cell_type": "markdown",
   "metadata": {
    "colab_type": "text",
    "id": "gIronhy5gUut"
   },
   "source": [
    "## Install the MySQL Python connector. This has nothing to do with Spark, but if you want to run SQL queries directly it is helpful.\n",
    "It's already on our machines so we don't need to run this now."
   ]
  },
  {
   "cell_type": "code",
   "execution_count": null,
   "metadata": {
    "colab": {},
    "colab_type": "code",
    "id": "KsdTYGVygUuu"
   },
   "outputs": [],
   "source": [
    "! pip install mysql-connector-python"
   ]
  },
  {
   "cell_type": "markdown",
   "metadata": {
    "colab_type": "text",
    "id": "zVmFdwergUuz"
   },
   "source": [
    "## Let's make sure we have a database for northwind and no regions table."
   ]
  },
  {
   "cell_type": "code",
   "execution_count": 33,
   "metadata": {
    "colab": {},
    "colab_type": "code",
    "id": "Bp7a-BNdgUu0"
   },
   "outputs": [
    {
     "name": "stdout",
     "output_type": "stream",
     "text": [
      "success\n"
     ]
    }
   ],
   "source": [
    "import mysql.connector\n",
    "try:\n",
    "    cn = mysql.connector.connect(host='localhost', user='test', password='password')\n",
    "    cursor = cn.cursor()\n",
    "    cursor.execute('create database if not exists northwind')\n",
    "    cn.close()\n",
    "\n",
    "    cn = mysql.connector.connect(host='localhost', user='test', password='password', database='northwind')\n",
    "    cursor = cn.cursor()    \n",
    "    cursor.execute('drop table if exists regions')\n",
    "    cn.close()\n",
    "except:\n",
    "    print('something went wrong')\n",
    "else:\n",
    "    print('success')\n",
    "\n"
   ]
  },
  {
   "cell_type": "markdown",
   "metadata": {
    "colab_type": "text",
    "id": "Ix21bUHogUu4"
   },
   "source": [
    "## Write a DataFrame to a SQL database."
   ]
  },
  {
   "cell_type": "code",
   "execution_count": 37,
   "metadata": {},
   "outputs": [
    {
     "name": "stdout",
     "output_type": "stream",
     "text": [
      "+--------+----------+\n",
      "|regionid|regionname|\n",
      "+--------+----------+\n",
      "|       1|   Eastern|\n",
      "|       2|   Western|\n",
      "|       3|  Northern|\n",
      "|       4|  Southern|\n",
      "+--------+----------+\n",
      "\n"
     ]
    }
   ],
   "source": [
    "regions.show()"
   ]
  },
  {
   "cell_type": "code",
   "execution_count": 38,
   "metadata": {
    "colab": {},
    "colab_type": "code",
    "id": "s9aHMSK3gUu5"
   },
   "outputs": [
    {
     "name": "stdout",
     "output_type": "stream",
     "text": [
      "Done\n"
     ]
    }
   ],
   "source": [
    "regions.write.format(\"jdbc\").options(url=\"jdbc:mysql://localhost/northwind\", \\\n",
    "                                     driver='com.mysql.jdbc.Driver', \\\n",
    "                                     dbtable='regions', \\\n",
    "                                     user='test', password = \"password\", mode = \"append\", \\\n",
    "                                     useSSL = \"false\").save()\n",
    "print('Done')"
   ]
  },
  {
   "cell_type": "markdown",
   "metadata": {
    "colab_type": "text",
    "id": "cg0NxXW3gUvA"
   },
   "source": [
    "## Read a SQL table into a Spark DataFrame."
   ]
  },
  {
   "cell_type": "code",
   "execution_count": 40,
   "metadata": {
    "colab": {},
    "colab_type": "code",
    "id": "WE1ymq3KgUvC"
   },
   "outputs": [
    {
     "name": "stdout",
     "output_type": "stream",
     "text": [
      "+--------+----------+\n",
      "|regionid|regionname|\n",
      "+--------+----------+\n",
      "|       1|   Eastern|\n",
      "|       2|   Western|\n",
      "|       3|  Northern|\n",
      "|       4|  Southern|\n",
      "|       5|New Region|\n",
      "+--------+----------+\n",
      "\n"
     ]
    }
   ],
   "source": [
    "regions2 = spark.read.format(\"jdbc\").options(url=\"jdbc:mysql://localhost/northwind\", \\\n",
    "                                             driver=\"com.mysql.jdbc.Driver\", \\\n",
    "                                             dbtable= \"regions\", \\\n",
    "                                             user=\"test\", password=\"password\").load()\n",
    "regions2.show()\n"
   ]
  },
  {
   "cell_type": "markdown",
   "metadata": {
    "colab_type": "text",
    "id": "Ftyax8bwoI0A"
   },
   "source": [
    "## If you don't wont to bring an entire SQL table into a spark DataFrame use query instead of dbtable."
   ]
  },
  {
   "cell_type": "code",
   "execution_count": 41,
   "metadata": {
    "colab": {},
    "colab_type": "code",
    "id": "xNCaIv8coI0B"
   },
   "outputs": [
    {
     "name": "stdout",
     "output_type": "stream",
     "text": [
      "+--------+----------+\n",
      "|regionid|regionname|\n",
      "+--------+----------+\n",
      "|       1|   Eastern|\n",
      "|       2|   Western|\n",
      "+--------+----------+\n",
      "\n"
     ]
    }
   ],
   "source": [
    "regions3 = spark.read.format(\"jdbc\").options(url=\"jdbc:mysql://localhost/northwind\", \\\n",
    "                                             driver=\"com.mysql.jdbc.Driver\", \\\n",
    "                                             query= \"select regionid, regionname from regions where regionid < 3\", \\\n",
    "                                             user=\"test\", password=\"password\").load()\n",
    "regions3.show()\n",
    "\n"
   ]
  },
  {
   "cell_type": "markdown",
   "metadata": {
    "colab_type": "text",
    "id": "gZfSSRw3gUvF"
   },
   "source": [
    "## Creating the regions2 DataFrame does not execute anything yet, but by making the DataFrame into a Temp View then running a Spark SQL query, it tells Spark to read the SQL data into a DataFrame and then use the cluster to do the processing, not the SQL source."
   ]
  },
  {
   "cell_type": "code",
   "execution_count": 42,
   "metadata": {
    "colab": {},
    "colab_type": "code",
    "id": "NqdUrSUTgUvG"
   },
   "outputs": [
    {
     "name": "stdout",
     "output_type": "stream",
     "text": [
      "+--------+----------+\n",
      "|regionid|regionname|\n",
      "+--------+----------+\n",
      "|       1|   Eastern|\n",
      "|       2|   Western|\n",
      "+--------+----------+\n",
      "\n"
     ]
    }
   ],
   "source": [
    "regions2.createOrReplaceTempView('regions2')\n",
    "spark.sql('select * from regions2 where regionid < 3').show()"
   ]
  },
  {
   "cell_type": "code",
   "execution_count": null,
   "metadata": {
    "colab": {},
    "colab_type": "code",
    "id": "Jp8yIQMBoI0I"
   },
   "outputs": [],
   "source": [
    "spark.read.table('regions2').where('regionid < 3').show()"
   ]
  },
  {
   "cell_type": "markdown",
   "metadata": {
    "colab_type": "text",
    "id": "xt_OCqzCgUvK"
   },
   "source": [
    "## Alternate ways to code a query using SQL and methods."
   ]
  },
  {
   "cell_type": "code",
   "execution_count": null,
   "metadata": {
    "colab": {},
    "colab_type": "code",
    "id": "ZTph5vnOgUvL"
   },
   "outputs": [],
   "source": [
    "x = spark.sql('select count(*) from northwind.regions').collect()\n",
    "print(x)\n",
    "print(x[0], x[0]['count(1)'])\n",
    "\n",
    "x = spark.sql('select count(*) as cnt from northwind.regions').collect()\n",
    "print(x)\n",
    "print(x[0], x[0].cnt)\n",
    "\n",
    "print(spark.sql('select * from northwind.regions').count())\n",
    "print(spark.read.table('northwind.regions').count())\n",
    "\n",
    "print(spark.sql('select * from northwind.regions where regionid < 4').count())\n",
    "print(spark.read.table('northwind.regions').where('regionid<4').count())"
   ]
  },
  {
   "cell_type": "markdown",
   "metadata": {
    "colab_type": "text",
    "id": "ZQf2QOj2gUvQ"
   },
   "source": [
    "## Using SQL you can use familiar syntax instead of withColumn or withColumnRenamed methods.\n",
    "Note the expr function needs to be imported when you want to use a stringified SQL function using dot syntax."
   ]
  },
  {
   "cell_type": "code",
   "execution_count": null,
   "metadata": {
    "colab": {},
    "colab_type": "code",
    "id": "1p18BQ_pgUvR"
   },
   "outputs": [],
   "source": [
    "from pyspark.sql.functions import expr\n",
    "\n",
    "t1 = spark.sql('select TerritoryID as TerrID, UPPER(TerritoryName) as TerritoryName, RegionID from northwind.territories')\n",
    "t1.show(5)\n",
    "\n",
    "from pyspark.sql.functions import expr\n",
    "territories.withColumn('TerritoryName', expr('UPPER(TerritoryName)')).withColumnRenamed('TerritoryID', 'TerrID').show(5)\n"
   ]
  },
  {
   "cell_type": "code",
   "execution_count": null,
   "metadata": {
    "colab": {},
    "colab_type": "code",
    "id": "nsi73PpHoI0f"
   },
   "outputs": [],
   "source": [
    "from pyspark.sql.functions import udf\n",
    "from pyspark.sql.types import *\n",
    "\n",
    "# This won't work though if you want to use python functions, you need to go another step\n",
    "# territories.withColumn('TerritoryName', territories.TerritoryName.upper()).show()\n",
    "\n",
    "# You need to make the python function callable by spark by wrapping it in the udf function\n",
    "# which tells spark what datatype it returns\n",
    "\n",
    "def joeyfunc(x: str) -> str:\n",
    "    return x[::-1]\n",
    "\n",
    "#territories.withColumn('TerritoryName', udf(str.title, StringType())(territories.TerritoryName)).show()\n",
    "territories.withColumn('TerritoryName', udf(joeyfunc, StringType())(territories.TerritoryName)).show()\n",
    "\n"
   ]
  },
  {
   "cell_type": "markdown",
   "metadata": {
    "colab_type": "text",
    "id": "E1_Baqf6gUvV"
   },
   "source": [
    "## If you want to use a function that is not a standard Python or SQL function, you can always create one in Python and make it callable from Spark."
   ]
  },
  {
   "cell_type": "code",
   "execution_count": null,
   "metadata": {
    "colab": {},
    "colab_type": "code",
    "id": "3DZ-p4MmoI0i"
   },
   "outputs": [],
   "source": [
    "from pyspark.sql.functions import udf\n",
    "from pyspark.sql.types import *\n",
    "\n",
    "def inventoryvalue(quantity: int, price: float) -> float:\n",
    "    return quantity * price\n",
    "\n",
    "def inventoryvalue(quantity, price):\n",
    "    return quantity * price\n",
    "\n",
    "# Turn the Python function into a Spark callable function\n",
    "invvalue = udf(inventoryvalue, FloatType())\n",
    "p = products\n",
    "p2 = p.withColumn('value', invvalue(p.unitsinstock, p.unitprice))\n",
    "display(p2)\n",
    "\n",
    "\n"
   ]
  },
  {
   "cell_type": "markdown",
   "metadata": {
    "colab_type": "text",
    "id": "2ANiYGYGoI0m"
   },
   "source": [
    "## Python decorators are an even better option."
   ]
  },
  {
   "cell_type": "code",
   "execution_count": null,
   "metadata": {
    "colab": {},
    "colab_type": "code",
    "id": "nQUKWKd3oI0n"
   },
   "outputs": [],
   "source": [
    "@udf(FloatType())\n",
    "def inventoryvalue(quantity, price):\n",
    "    return quantity * price\n",
    "\n",
    "p2 = p.withColumn('value', inventoryvalue(p.unitsinstock, p.unitprice))\n",
    "display(p2)\n"
   ]
  },
  {
   "cell_type": "code",
   "execution_count": null,
   "metadata": {
    "colab": {},
    "colab_type": "code",
    "id": "83gxIGtQoI0p"
   },
   "outputs": [],
   "source": [
    "from pyspark.sql.functions import udf\n",
    "from pyspark.sql.types import *\n",
    "\n",
    "def inventoryvalue(quantity, price):\n",
    "    return quantity * price\n",
    "\n",
    "# Or dynamically wrap it, but it's harder to read\n",
    "p2 = p.withColumn('value', udf(inventoryvalue, FloatType())(p.unitsinstock, p.unitprice))\n",
    "display(p2)\n",
    "\n"
   ]
  },
  {
   "cell_type": "markdown",
   "metadata": {
    "colab_type": "text",
    "id": "scBBkmrFgUvd"
   },
   "source": [
    "## To make it easier though, you could make the Python function into a udf that SQL can understand similar to how you can make a DataFrame seem like a virtual table with createOrReplaceTempView."
   ]
  },
  {
   "cell_type": "code",
   "execution_count": 44,
   "metadata": {
    "colab": {},
    "colab_type": "code",
    "id": "A64igGvvgUvh"
   },
   "outputs": [
    {
     "name": "stdout",
     "output_type": "stream",
     "text": [
      "+-----------+-------------+--------+----------------+\n",
      "|TerritoryID|TerritoryName|RegionID|        Reversed|\n",
      "+-----------+-------------+--------+----------------+\n",
      "|      90405| Santa Monica|       2|joeyacinoM atnaS|\n",
      "|      29202|     Columbia|       4|    joeyaibmuloC|\n",
      "|      19428| Philadelphia|       3|joeyaihpledalihP|\n",
      "|      33607|        Tampa|       4|       joeyapmaT|\n",
      "|      95054|  Santa Clara|       2| joeyaralC atnaS|\n",
      "|      30346|      Atlanta|       4|     joeyatnaltA|\n",
      "|      48075|   Southfield|       3|  joeydleifhtuoS|\n",
      "|      98052|      Redmond|       2|     joeydnomdeR|\n",
      "|      44122|    Beachwood|       3|   joeydoowhcaeB|\n",
      "|      19713|       Neward|       1|      joeydraweN|\n",
      "|       1730|      Bedford|       1|     joeydrofdeB|\n",
      "|       2903|   Providence|       1|  joeyecnedivorP|\n",
      "|       2184|    Braintree|       1|   joeyeertniarB|\n",
      "|       2139|    Cambridge|       1|   joeyegdirbmaC|\n",
      "|      85251|   Scottsdale|       2|  joeyeladsttocS|\n",
      "|      11747|     Mellvile|       1|    joeyelivlleM|\n",
      "|      55113|    Roseville|       3|   joeyellivesoR|\n",
      "|      20852|    Rockville|       1|   joeyellivkcoR|\n",
      "|      72716|  Bentonville|       4| joeyellivnotneB|\n",
      "|      40222|   Louisville|       1|  joeyellivsiuoL|\n",
      "+-----------+-------------+--------+----------------+\n",
      "only showing top 20 rows\n",
      "\n"
     ]
    }
   ],
   "source": [
    "def reverseString(x):\n",
    "    return x[::-1]\n",
    "\n",
    "spark.udf.register('reverse', reverseString, StringType())\n",
    "\n",
    "spark.sql('select *, reverse(TerritoryName) as Reversed from Territories').orderBy('Reversed').show()"
   ]
  },
  {
   "cell_type": "markdown",
   "metadata": {
    "colab_type": "text",
    "id": "11AafIOegUvl"
   },
   "source": [
    "## HQL has collect_set and collect_list functions to aggregate items into a list instead of summing them up. "
   ]
  },
  {
   "cell_type": "code",
   "execution_count": null,
   "metadata": {
    "colab": {},
    "colab_type": "code",
    "id": "cRm3IkEpgUvl",
    "scrolled": true
   },
   "outputs": [],
   "source": [
    "from pyspark.sql.functions import collect_list\n",
    "territories.groupBy(territories.RegionID).agg(collect_list(territories.TerritoryName)).show()\n",
    "\n",
    "tr1 = spark.sql(\"SELECT RegionID, collect_list(TerritoryName) AS TerritoryList FROM Territories GROUP BY RegionID\")\n",
    "tr1.show()\n",
    "tr1.printSchema()\n",
    "print(tr1.take(1))\n"
   ]
  },
  {
   "cell_type": "markdown",
   "metadata": {
    "colab_type": "text",
    "id": "l-onOtyzgUvo"
   },
   "source": [
    "## Instead of a simple datatype, you could also collect complex structured objects using the HQL NAMED_STRUCT."
   ]
  },
  {
   "cell_type": "code",
   "execution_count": null,
   "metadata": {
    "colab": {},
    "colab_type": "code",
    "id": "Tolziu_tgUvp"
   },
   "outputs": [],
   "source": [
    "sql = \"\"\"\n",
    "SELECT r.RegionID, r.RegionName\n",
    ", COLLECT_SET(NAMED_STRUCT(\"TerritoryID\", TerritoryID, \"TerritoryName\", TerritoryName)) AS TerritoryList\n",
    "FROM northwind.Regions AS r\n",
    "JOIN Territories AS t ON r.RegionID = t.RegionID\n",
    "GROUP BY r.RegionID, r.RegionName\n",
    "ORDER BY r.RegionID\n",
    "\"\"\"\n",
    "\n",
    "tr2 = spark.sql(sql)\n",
    "tr2.printSchema()\n",
    "print(tr2)\n",
    "tr2.show()\n",
    "print(tr2.take(2))\n",
    "tr2.write.json('TerritoryRegion.json')\n",
    "spark.sql('create table TerritoryRegion as ' + sql)"
   ]
  },
  {
   "cell_type": "markdown",
   "metadata": {
    "colab_type": "text",
    "id": "h4VnZ0MKgUvs"
   },
   "source": [
    "## If you have data that is already collected into a complex datatype and want to flatten it, you could use HQL EXPLODE function."
   ]
  },
  {
   "cell_type": "markdown",
   "metadata": {
    "colab_type": "text",
    "id": "paYQteGWgUvt"
   },
   "source": [
    "## You could use the Spark explode method."
   ]
  },
  {
   "cell_type": "code",
   "execution_count": null,
   "metadata": {
    "colab": {},
    "colab_type": "code",
    "id": "2rSesh3PgUvu"
   },
   "outputs": [],
   "source": [
    "from pyspark.sql.functions import explode\n",
    "tr1.select('RegionID', explode('TerritoryList')).withColumnRenamed('col','TerritoryName').show()\n"
   ]
  },
  {
   "cell_type": "markdown",
   "metadata": {
    "colab_type": "text",
    "id": "lXxOSvqAgUvx"
   },
   "source": [
    "## Or if the DataFrame is turned into a Temp View, you could use the HQL query to do it."
   ]
  },
  {
   "cell_type": "code",
   "execution_count": null,
   "metadata": {
    "colab": {},
    "colab_type": "code",
    "id": "fnianeudgUvy"
   },
   "outputs": [],
   "source": [
    "tr1.createOrReplaceTempView('RegionTerritories')\n",
    "sql = \"\"\"\n",
    "SELECT RegionID, TerritoryName\n",
    "FROM RegionTerritories\n",
    "LATERAL VIEW EXPLODE(TerritoryList) EXPLODED_TABLE AS TerritoryName\n",
    "ORDER BY RegionID, TerritoryName\n",
    "\"\"\"\n",
    "spark.sql(sql).show()"
   ]
  },
  {
   "cell_type": "markdown",
   "metadata": {
    "colab_type": "text",
    "id": "M4XqNW4xgUv2"
   },
   "source": [
    "## Or you could select specific elements from a collection."
   ]
  },
  {
   "cell_type": "code",
   "execution_count": null,
   "metadata": {
    "colab": {},
    "colab_type": "code",
    "id": "nYvKH3VxgUv3"
   },
   "outputs": [],
   "source": [
    "tr2.createOrReplaceTempView('RegionTerritories')\n",
    "spark.sql(\"select RegionId, RegionName, TerritoryList[0] as First, TerritoryList[size(TerritoryList) - 1] as Last, size(TerritoryList) as TerritoryCount from RegionTerritories\").show()\n"
   ]
  },
  {
   "cell_type": "markdown",
   "metadata": {
    "colab_type": "text",
    "id": "OgXXtetSgUv6"
   },
   "source": [
    "## If the array is of structs, note the syntax of fetching the elements from the struct uses the . like an object property."
   ]
  },
  {
   "cell_type": "code",
   "execution_count": null,
   "metadata": {
    "colab": {},
    "colab_type": "code",
    "id": "t4iyj0JAgUv7"
   },
   "outputs": [],
   "source": [
    "sql = \"\"\"\n",
    "SELECT RegionID, RegionName, Territory.TerritoryID AS TerritoryID\n",
    ", Territory.TerritoryName AS TerritoryName\n",
    "FROM RegionTerritories\n",
    "LATERAL VIEW EXPLODE(TerritoryList) EXPLODED_TABLE AS Territory\n",
    "\"\"\"\n",
    "spark.sql(sql).show()\n"
   ]
  },
  {
   "cell_type": "markdown",
   "metadata": {
    "colab_type": "text",
    "id": "MDIPBzWWgUwA"
   },
   "source": [
    "## HOMEWORK: ## \n",
    "**First Challenge**\n",
    "\n",
    "Create a Python function to determine if a number is odd or even and use that to select only the even numbered shippers from the TSV folder of northwind. Note the TSV file does not have headers so you will need to do something to make the DataFrame have a meaningful structure. I would suggest using Spark SQL as much as possible to rename and cast the columns which are ShipperID, CompanyName, and Phone.\n",
    "\n",
    "**Second Challenge**\n",
    "\n",
    "Take the Order_LineItems.json folder, read it into a DataFrame, and flatten it and then calculate the average price paid for a product.\n",
    "\n",
    "<br>\n",
    "<details><summary>Click for <b>hint</b></summary>\n",
    "<p>\n",
    "Take a look at the MakeOrders_LineItems.py file provided to see how the Order_LineItems.json was generated in the first place\n",
    "<br>\n",
    "Use modulus with remainder of zero to determine if something is even\n",
    "<br>\n",
    "Use udf to make a version of the function that is callable using dot syntax and udf.register to make a version callable from within a SQL string\n",
    "<br>\n",
    "Use LATERAL VIEW EXPLODE() EXPLODED_TABLE to flatten out the nested format file\n",
    "<br>\n",
    "Once flattened do a traditional aggregate to calculate the average\n",
    "<br>\n",
    "<br>\n",
    "</p>\n",
    "</details>\n",
    "\n",
    "\n",
    "\n"
   ]
  },
  {
   "cell_type": "code",
   "execution_count": null,
   "metadata": {},
   "outputs": [],
   "source": []
  },
  {
   "cell_type": "code",
   "execution_count": null,
   "metadata": {},
   "outputs": [],
   "source": [
    "%load_ext sparksql_magic"
   ]
  },
  {
   "cell_type": "code",
   "execution_count": null,
   "metadata": {},
   "outputs": [],
   "source": [
    "%%sparksql\n",
    "select * from regions"
   ]
  },
  {
   "cell_type": "code",
   "execution_count": null,
   "metadata": {},
   "outputs": [],
   "source": []
  }
 ],
 "metadata": {
  "colab": {
   "name": "Day3-SparkSQL.ipynb",
   "provenance": []
  },
  "kernelspec": {
   "display_name": "Python 3",
   "language": "python",
   "name": "python3"
  },
  "language_info": {
   "codemirror_mode": {
    "name": "ipython",
    "version": 3
   },
   "file_extension": ".py",
   "mimetype": "text/x-python",
   "name": "python",
   "nbconvert_exporter": "python",
   "pygments_lexer": "ipython3",
   "version": "3.7.3"
  }
 },
 "nbformat": 4,
 "nbformat_minor": 1
}
