{
 "cells": [
  {
   "cell_type": "code",
   "execution_count": 0,
   "metadata": {
    "colab": {},
    "colab_type": "code",
    "id": "l6l-I7cui61r"
   },
   "outputs": [],
   "source": [
    "import sys\n",
    "sys.path.append('/class')\n",
    "from initspark import *\n",
    "sc, spark, conf = initspark()"
   ]
  },
  {
   "cell_type": "markdown",
   "metadata": {
    "colab_type": "text",
    "id": "kygjrNOji61z"
   },
   "source": [
    "## Homework ##\n",
    "\n",
    "**First Challenge**\n",
    "\n",
    "Create a Python function to determine if a number is odd or even and use that to select only the even numbered shippers from the TSV folder of northwind. Note the TSV file does not have headers so you will need to do something to make the DataFrame have a meaningful structure. I would suggest using Spark SQL as much as possible to rename and cast the columns which are ShipperID, CompanyName, and Phone.\n",
    "\n",
    "**Second Challenge**\n",
    "\n",
    "Take the Order_LineItems.json folder, read it into a DataFrame, and flatten it and then calculate the average price paid for a product.\n"
   ]
  },
  {
   "cell_type": "code",
   "execution_count": 0,
   "metadata": {
    "colab": {},
    "colab_type": "code",
    "id": "COcdHpoVi610",
    "outputId": "b2d4c140-77fe-45be-b524-b65a804944a9"
   },
   "outputs": [
    {
     "name": "stdout",
     "output_type": "stream",
     "text": [
      "DataFrame[_c0: string, _c1: string, _c2: string]\n",
      "[Row(_c0='1', _c1='Speedy Express', _c2='(503) 555-9831'), Row(_c0='2', _c1='United Package', _c2='(503) 555-3199'), Row(_c0='3', _c1='Federal Shipping', _c2='(503) 555-9931'), Row(_c0='4', _c1='Alliance Shippers', _c2='1-800-222-0451'), Row(_c0='5', _c1='UPS', _c2='1-800-782-7892'), Row(_c0='6', _c1='DHL', _c2='1-800-225-5345')]\n",
      "DataFrame[ShipperID: int, ShipperName: string, Phone: string]\n",
      "+---------+-----------------+--------------+\n",
      "|ShipperID|      ShipperName|         Phone|\n",
      "+---------+-----------------+--------------+\n",
      "|        2|   United Package|(503) 555-3199|\n",
      "|        4|Alliance Shippers|1-800-222-0451|\n",
      "|        6|              DHL|1-800-225-5345|\n",
      "+---------+-----------------+--------------+\n",
      "\n"
     ]
    }
   ],
   "source": [
    "shippers = spark.read.csv('class/datasets/northwind/TSV/shippers', header=False, sep = '\\t')\n",
    "#shippers.show()\n",
    "print(shippers)\n",
    "shippers.createOrReplaceTempView('shippers')\n",
    "print(shippers.collect())\n",
    "shippers = spark.sql('select cast(_c0 as int) as ShipperID, _c1 as ShipperName, _c2 as Phone from shippers')\n",
    "shippers.createOrReplaceTempView('shippers')\n",
    "print(shippers)\n",
    "\n",
    "def isEven(x):\n",
    "    return x % 2 == 0\n",
    "\n",
    "from pyspark.sql.functions import udf\n",
    "from pyspark.sql.types import *\n",
    "\n",
    "spark.udf.register('isEven', isEven, BooleanType())\n",
    "\n",
    "spark.sql('select * FROM Shippers WHERE isEven(ShipperID)').show()\n"
   ]
  },
  {
   "cell_type": "code",
   "execution_count": 0,
   "metadata": {
    "colab": {},
    "colab_type": "code",
    "id": "gd3Z7lL6i614",
    "outputId": "f9d26dea-8500-4b7b-d7e1-40662aa62ced"
   },
   "outputs": [
    {
     "name": "stdout",
     "output_type": "stream",
     "text": [
      "+-------+----------+--------------------+---------+---------+--------+--------+\n",
      "|OrderId|CustomerID|           OrderDate|ProductID|UnitPrice|Quantity|Discount|\n",
      "+-------+----------+--------------------+---------+---------+--------+--------+\n",
      "|  11074|     SIMOB|1998-05-06T00:00:...|       16|    17.45|      14|    0.05|\n",
      "|  11075|     RICSU|1998-05-06T00:00:...|       76|     18.0|       2|    0.15|\n",
      "|  11075|     RICSU|1998-05-06T00:00:...|        2|     19.0|      10|    0.15|\n",
      "|  11075|     RICSU|1998-05-06T00:00:...|       46|     12.0|      30|    0.15|\n",
      "|  11076|     BONAP|1998-05-06T00:00:...|       19|      9.2|      10|    0.25|\n",
      "|  11076|     BONAP|1998-05-06T00:00:...|       14|    23.25|      20|    0.25|\n",
      "|  11076|     BONAP|1998-05-06T00:00:...|        6|     25.0|      20|    0.25|\n",
      "|  11077|     RATTC|1998-05-06T00:00:...|       16|    17.45|       2|    0.03|\n",
      "|  11077|     RATTC|1998-05-06T00:00:...|        8|     40.0|       2|     0.1|\n",
      "|  11077|     RATTC|1998-05-06T00:00:...|        2|     19.0|      24|     0.2|\n",
      "|  11077|     RATTC|1998-05-06T00:00:...|       12|     38.0|       2|    0.05|\n",
      "|  11077|     RATTC|1998-05-06T00:00:...|       75|     7.75|       4|     0.0|\n",
      "|  11077|     RATTC|1998-05-06T00:00:...|       32|     32.0|       1|     0.0|\n",
      "|  11077|     RATTC|1998-05-06T00:00:...|       64|    33.25|       2|    0.03|\n",
      "|  11077|     RATTC|1998-05-06T00:00:...|        3|     10.0|       4|     0.0|\n",
      "|  11077|     RATTC|1998-05-06T00:00:...|       10|     31.0|       1|     0.0|\n",
      "|  11077|     RATTC|1998-05-06T00:00:...|       13|      6.0|       4|     0.0|\n",
      "|  11077|     RATTC|1998-05-06T00:00:...|       23|      9.0|       2|     0.0|\n",
      "|  11077|     RATTC|1998-05-06T00:00:...|       41|     9.65|       3|     0.0|\n",
      "|  11077|     RATTC|1998-05-06T00:00:...|       39|     18.0|       2|    0.05|\n",
      "+-------+----------+--------------------+---------+---------+--------+--------+\n",
      "only showing top 20 rows\n",
      "\n",
      "+-----------------+\n",
      "|   avg(UnitPrice)|\n",
      "+-----------------+\n",
      "|26.21851972157771|\n",
      "+-----------------+\n",
      "\n"
     ]
    }
   ],
   "source": [
    "o = spark.read.json('Orders_LineItems.json')\n",
    "o.createOrReplaceTempView('Orders')\n",
    "sql = '''select OrderId, CustomerID, OrderDate, l.ProductID, l.UnitPrice, l.Quantity, l.Discount\n",
    "FROM Orders LATERAL VIEW EXPLODE(LineItems) EXPLODED_TABLE AS l\n",
    "'''\n",
    "o2 = spark.sql(sql)\n",
    "o2.show()\n",
    "o2.createOrReplaceTempView('FlatOrders')\n",
    "spark.sql('select avg(UnitPrice) from FlatOrders').show()\n"
   ]
  },
  {
   "cell_type": "code",
   "execution_count": 0,
   "metadata": {
    "colab": {},
    "colab_type": "code",
    "id": "kbWJpQLwi618"
   },
   "outputs": [],
   "source": []
  }
 ],
 "metadata": {
  "colab": {
   "name": "Day3_Homework.ipynb",
   "provenance": []
  },
  "kernelspec": {
   "display_name": "Python 3",
   "language": "python",
   "name": "python3"
  },
  "language_info": {
   "codemirror_mode": {
    "name": "ipython",
    "version": 3
   },
   "file_extension": ".py",
   "mimetype": "text/x-python",
   "name": "python",
   "nbconvert_exporter": "python",
   "pygments_lexer": "ipython3",
   "version": "3.9.1"
  }
 },
 "nbformat": 4,
 "nbformat_minor": 1
}
