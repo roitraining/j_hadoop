{
 "cells": [
  {
   "cell_type": "code",
   "execution_count": null,
   "metadata": {
    "colab": {},
    "colab_type": "code",
    "id": "l6l-I7cui61r"
   },
   "outputs": [],
   "source": [
    "import sys\n",
    "sys.path.append('/class')\n",
    "from initspark import *\n",
    "sc, spark, conf = initspark()"
   ]
  },
  {
   "cell_type": "markdown",
   "metadata": {
    "colab_type": "text",
    "id": "kygjrNOji61z"
   },
   "source": [
    "## Homework ##\n",
    "\n",
    "**First Challenge**\n",
    "\n",
    "Create a Python function to determine if a number is odd or even and use that to select only the even numbered shippers from the TSV folder of northwind. Note the TSV file does not have headers so you will need to do something to make the DataFrame have a meaningful structure. I would suggest using Spark SQL as much as possible to rename and cast the columns which are ShipperID, CompanyName, and Phone.\n",
    "\n",
    "**Second Challenge**\n",
    "\n",
    "Take the Order_LineItems.json folder, read it into a DataFrame, and flatten it and then calculate the average price paid for a product.\n"
   ]
  },
  {
   "cell_type": "code",
   "execution_count": null,
   "metadata": {
    "colab": {},
    "colab_type": "code",
    "id": "COcdHpoVi610",
    "outputId": "b2d4c140-77fe-45be-b524-b65a804944a9"
   },
   "outputs": [],
   "source": [
    "shippers = spark.read.csv('/class/datasets/northwind/TSV/shippers', header=False, sep = '\\t')\n",
    "#shippers.show()\n",
    "print(shippers)\n",
    "shippers.createOrReplaceTempView('shippers')\n",
    "print(shippers.collect())\n",
    "shippers = spark.sql('select cast(_c0 as int) as ShipperID, _c1 as ShipperName, _c2 as Phone from shippers')\n",
    "shippers.createOrReplaceTempView('shippers')\n",
    "print(shippers)\n",
    "\n",
    "def isEven(x):\n",
    "    return x % 2 == 0\n",
    "\n",
    "from pyspark.sql.functions import udf\n",
    "from pyspark.sql.types import *\n",
    "\n",
    "spark.udf.register('isEven', isEven, BooleanType())\n",
    "\n",
    "spark.sql('select * FROM Shippers WHERE isEven(ShipperID)').show()\n"
   ]
  },
  {
   "cell_type": "code",
   "execution_count": null,
   "metadata": {
    "colab": {},
    "colab_type": "code",
    "id": "gd3Z7lL6i614",
    "outputId": "f9d26dea-8500-4b7b-d7e1-40662aa62ced"
   },
   "outputs": [],
   "source": [
    "o = spark.read.json('Orders_LineItems.json')\n",
    "o.createOrReplaceTempView('Orders')\n",
    "sql = '''select OrderId, CustomerID, OrderDate, l.ProductID, l.UnitPrice, l.Quantity, l.Discount\n",
    "FROM Orders LATERAL VIEW EXPLODE(LineItems) EXPLODED_TABLE AS l\n",
    "'''\n",
    "o2 = spark.sql(sql)\n",
    "o2.show()\n",
    "o2.createOrReplaceTempView('FlatOrders')\n",
    "spark.sql('select avg(UnitPrice) from FlatOrders').show()\n"
   ]
  },
  {
   "cell_type": "code",
   "execution_count": null,
   "metadata": {
    "colab": {},
    "colab_type": "code",
    "id": "kbWJpQLwi618"
   },
   "outputs": [],
   "source": []
  }
 ],
 "metadata": {
  "colab": {
   "name": "Day3_Homework.ipynb",
   "provenance": []
  },
  "kernelspec": {
   "display_name": "Python 3",
   "language": "python",
   "name": "python3"
  },
  "language_info": {
   "codemirror_mode": {
    "name": "ipython",
    "version": 3
   },
   "file_extension": ".py",
   "mimetype": "text/x-python",
   "name": "python",
   "nbconvert_exporter": "python",
   "pygments_lexer": "ipython3",
   "version": "3.7.3"
  }
 },
 "nbformat": 4,
 "nbformat_minor": 1
}
