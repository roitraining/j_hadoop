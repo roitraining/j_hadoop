{
  "nbformat": 4,
  "nbformat_minor": 0,
  "metadata": {
      "colab": {
      "name": "Day2-Homework.ipynb",
      "provenance": []
    },
   "kernelspec": {
      "display_name": "Python 3",
      "language": "python",
      "name": "python3"
    },
    "language_info": {
      "codemirror_mode": {
        "name": "ipython",
        "version": 3
      },
      "file_extension": ".py",
      "mimetype": "text/x-python",
      "name": "python",
      "nbconvert_exporter": "python",
      "pygments_lexer": "ipython3",
      "version": "3.7.3"
    },
    "colab": {
      "name": "Day2_Homework.ipynb",
      "provenance": []
    }
  },
  "cells": [
    {
      "cell_type": "markdown",
      "metadata": {
        "id": "RbEum1Q5qhXY",
        "colab_type": "text"
      },
      "source": [
        "## HOMEWORK: ## \n",
        "### Join Orders, OrderDetails, and Products together. Find the sales total for each category listed in descending order by sales.\n",
        "<br>\n",
        "<details><summary>Click for <b>hint</b></summary>\n",
        "<p>\n",
        "Load each file into a dataframe and give them single letter aliases for simplicity\n",
        "<br>\n",
        "Join products and order details together on productid\n",
        "<br>\n",
        "Join that to orders on orderid\n",
        "<br>\n",
        "Create a calculated column to get the line total for each order details\n",
        "<br>\n",
        "Group by categoryID and calculate the sum of the line totals \n",
        "<br>\n",
        "Sort on the calculated total\n",
        "<br><br>\n",
        "</p>\n",
        "</details>\n",
        "\n",
        "<details><summary>Click for <b>code</b></summary>\n",
        "<p>\n",
        "\n",
        "```python\n",
        "orders = spark.read.csv('/class/datasets/northwind/CSVHeaders/orders', header=True, inferSchema=True)\n",
        "orders.printSchema()\n",
        "orderdetails = spark.read.json('/class/datasets/northwind/JSON/orderdetails')\n",
        "orderdetails.printSchema()\n",
        "prodSchema = StructType([\n",
        "    StructField('productid', IntegerType()), \n",
        "    StructField('productname', StringType()),\n",
        "    StructField('supplierid', IntegerType()), \n",
        "    StructField('categoryid', IntegerType()), \n",
        "    StructField('quantityperunit', StringType()), \n",
        "    StructField('unitprice', FloatType()), \n",
        "    StructField('unitsinstock', IntegerType()), \n",
        "    StructField('unitsonorder', IntegerType()), \n",
        "    StructField('reorderlevel', IntegerType()), \n",
        "    StructField('discontinued', IntegerType())\n",
        "])\n",
        "products = spark.read.json('/class/datasets/northwind/JSON/products', schema=prodSchema)\n",
        "\n",
        "o = orders\n",
        "od = orderdetails\n",
        "p = products\n",
        "\n",
        "x = p.join(od, p.productid == od.productid).join(o, od.orderid == o.OrderID) \\\n",
        "     .withColumn('linetotal', od.quantity * od.unitprice) \\\n",
        "     .groupby(p.categoryid) \\\n",
        "     .sum('linetotal').withColumnRenamed('sum(linetotal)', 'cattotal') \\\n",
        "     .orderBy('cattotal', descending = True)\n",
        "\n",
        "display(x)\n",
        "\n",
        "```\n",
        "</p>\n",
        "</details>\n",
        "\n"
      ]
    },
    {
      "cell_type": "code",
      "metadata": {
        "id": "kZ-4E-CCqhXc",
        "colab_type": "code",
        "colab": {}
      },
      "source": [
        "import sys\n",
        "sys.path.append('/class')\n",
        "from initspark import *\n",
        "sc, spark, conf = initspark()\n"
      ],
      "execution_count": 0,
      "outputs": []
    },
    {
      "cell_type": "code",
      "metadata": {
        "id": "5s-zismMqhXi",
        "colab_type": "code",
        "colab": {}
      },
      "source": [
        "orders = spark.read.csv('/class/datasets/northwind/CSVHeaders/orders', header=True, inferSchema=True)\n",
        "orders.printSchema()\n",
        "orderdetails = spark.read.json('/class/datasets/northwind/JSON/orderdetails')\n",
        "orderdetails.printSchema()\n",
        "prodSchema = StructType([\n",
        "    StructField('productid', IntegerType()), \n",
        "    StructField('productname', StringType()),\n",
        "    StructField('supplierid', IntegerType()), \n",
        "    StructField('categoryid', IntegerType()), \n",
        "    StructField('quantityperunit', StringType()), \n",
        "    StructField('unitprice', FloatType()), \n",
        "    StructField('unitsinstock', IntegerType()), \n",
        "    StructField('unitsonorder', IntegerType()), \n",
        "    StructField('reorderlevel', IntegerType()), \n",
        "    StructField('discontinued', IntegerType())\n",
        "])\n",
        "products = spark.read.json('/class/datasets/northwind/JSON/products', schema=prodSchema)\n",
        "\n",
        "o = orders\n",
        "od = orderdetails\n",
        "p = products\n",
        "\n",
        "x = p.join(od, p.productid == od.productid).join(o, od.orderid == o.OrderID) \\\n",
        "     .withColumn('linetotal', od.quantity * od.unitprice) \\\n",
        "     .groupby(p.categoryid) \\\n",
        "     .sum('linetotal').withColumnRenamed('sum(linetotal)', 'cattotal') \\\n",
        "     .orderBy('cattotal', descending = True)\n",
        "\n",
        "display(x)"
      ],
      "execution_count": 0,
      "outputs": []
    },
    {
      "cell_type": "code",
      "metadata": {
        "id": "LXX4HnuNqhXl",
        "colab_type": "code",
        "colab": {}
      },
      "source": [
        ""
      ],
      "execution_count": 0,
      "outputs": []
    }
  ]
}