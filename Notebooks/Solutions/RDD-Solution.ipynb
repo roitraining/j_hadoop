{
  "nbformat": 4,
  "nbformat_minor": 0,
  "metadata": {
    "colab": {
      "name": "Day1-Homework.ipynb",
      "provenance": []
    },
    "kernelspec": {
      "display_name": "Python 3",
      "language": "python",
      "name": "python3"
    },
    "language_info": {
      "codemirror_mode": {
        "name": "ipython",
        "version": 3
      },
      "file_extension": ".py",
      "mimetype": "text/x-python",
      "name": "python",
      "nbconvert_exporter": "python",
      "pygments_lexer": "ipython3",
      "version": "3.7.3"
    },
    "colab": {
      "name": "Day1_Homework.ipynb",
      "provenance": []
    }
  },
  "cells": [
    {
      "cell_type": "markdown",
      "metadata": {
        "id": "y-eSM38hk3U9",
        "colab_type": "text"
      },
      "source": [
        "### Initialize spark."
      ]
    },
    {
      "cell_type": "code",
      "metadata": {
        "id": "NwyI8oE_k3VB",
        "colab_type": "code",
        "colab": {}
      },
      "source": [
        "import sys\n",
        "sys.path.append('/class')\n",
        "from initspark import *\n",
        "sc, spark, conf = initspark()\n"
      ],
      "execution_count": 0,
      "outputs": []
    },
    {
      "cell_type": "markdown",
      "metadata": {
        "id": "FKI1fsbJk3VH",
        "colab_type": "text"
      },
      "source": [
        "### Read in the dataset and ignore the first row."
      ]
    },
    {
      "cell_type": "code",
      "metadata": {
        "id": "ewLlLE5bk3VK",
        "colab_type": "code",
        "colab": {}
      },
      "source": [
        "cc = sc.textFile('/class/datasets/finance/CreditCard.csv')\n",
        "first = cc.first()\n",
        "cc = cc.filter(lambda x : x != first)\n",
        "print(cc.take(10))\n"
      ],
      "execution_count": 0,
      "outputs": []
    },
    {
      "cell_type": "markdown",
      "metadata": {
        "id": "THDEZAQak3VN",
        "colab_type": "text"
      },
      "source": [
        "### Split the lines by commas."
      ]
    },
    {
      "cell_type": "code",
      "metadata": {
        "id": "azpDwX7Nk3VO",
        "colab_type": "code",
        "colab": {}
      },
      "source": [
        "cc = cc.map(lambda x : x.split(',')) \n",
        "print(cc.take(10))\n"
      ],
      "execution_count": 0,
      "outputs": []
    },
    {
      "cell_type": "markdown",
      "metadata": {
        "id": "Kfmwk0d0k3VV",
        "colab_type": "text"
      },
      "source": [
        "### Create a tuple where the key is city, country and the values are gender and amount which is converted into a float."
      ]
    },
    {
      "cell_type": "code",
      "metadata": {
        "id": "p4paC3Gpk3VW",
        "colab_type": "code",
        "colab": {}
      },
      "source": [
        "cc = cc.map(lambda x : ((x[0][1:], x[1][1:-1]), (x[5], float(x[6]))))\n",
        "print(cc.collect())\n"
      ],
      "execution_count": 0,
      "outputs": []
    },
    {
      "cell_type": "markdown",
      "metadata": {
        "id": "9jxTgniVk3Vb",
        "colab_type": "text"
      },
      "source": [
        "### Filter on the gender = F and return an output of the same compound key but a value of the amount only."
      ]
    },
    {
      "cell_type": "code",
      "metadata": {
        "id": "iohueClOk3Vc",
        "colab_type": "code",
        "colab": {}
      },
      "source": [
        "ccf = cc.filter(lambda x : x[1][0] == 'F').map(lambda x : (x[0], x[1][1]))\n",
        "print(ccf.collect())\n"
      ],
      "execution_count": 0,
      "outputs": []
    },
    {
      "cell_type": "markdown",
      "metadata": {
        "id": "pNtjb2t4k3Vg",
        "colab_type": "text"
      },
      "source": [
        "### Sum up all of the amounts by key and sort by key to show the values in city, country order."
      ]
    },
    {
      "cell_type": "code",
      "metadata": {
        "id": "eXYcPJUtk3Vi",
        "colab_type": "code",
        "colab": {}
      },
      "source": [
        "ccg = ccf.reduceByKey(lambda x, y : x + y)\n",
        "print(ccg.sortByKey().collect())\n"
      ],
      "execution_count": 0,
      "outputs": []
    },
    {
      "cell_type": "markdown",
      "metadata": {
        "id": "HudW3lDfk3Vm",
        "colab_type": "text"
      },
      "source": [
        "### Bonus! The ten highest cities."
      ]
    },
    {
      "cell_type": "code",
      "metadata": {
        "id": "gVWskUAok3Vn",
        "colab_type": "code",
        "colab": {}
      },
      "source": [
        "ccg.sortBy(lambda x : x[1], ascending = False).take(10)\n"
      ],
      "execution_count": 0,
      "outputs": []
    }
  ]
}